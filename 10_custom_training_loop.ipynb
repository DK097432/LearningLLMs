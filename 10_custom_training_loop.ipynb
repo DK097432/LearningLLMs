{
 "cells": [
  {
   "cell_type": "code",
   "id": "initial_id",
   "metadata": {
    "collapsed": true,
    "ExecuteTime": {
     "end_time": "2025-10-22T08:46:09.898202Z",
     "start_time": "2025-10-22T08:46:02.795198Z"
    }
   },
   "source": [
    "import torch\n",
    "from datasets import load_dataset\n",
    "from torch import GradScaler\n",
    "from transformers import AutoTokenizer, DataCollatorWithPadding\n",
    "\n",
    "from Pytorch.CNN import outputs"
   ],
   "outputs": [],
   "execution_count": 1
  },
  {
   "metadata": {
    "ExecuteTime": {
     "end_time": "2025-10-22T08:51:00.325393Z",
     "start_time": "2025-10-22T08:50:55.507475Z"
    }
   },
   "cell_type": "code",
   "source": "raw_datasets = load_dataset('glue', 'mrpc')",
   "id": "f85770fcde665b4d",
   "outputs": [],
   "execution_count": 13
  },
  {
   "metadata": {
    "ExecuteTime": {
     "end_time": "2025-10-22T08:51:02.086456Z",
     "start_time": "2025-10-22T08:51:01.204042Z"
    }
   },
   "cell_type": "code",
   "source": [
    "checkpoint = 'bert-base-uncased'\n",
    "tokenizer = AutoTokenizer.from_pretrained(checkpoint)"
   ],
   "id": "b6abb7762b88d882",
   "outputs": [],
   "execution_count": 14
  },
  {
   "metadata": {
    "ExecuteTime": {
     "end_time": "2025-10-22T08:58:49.884029Z",
     "start_time": "2025-10-22T08:58:49.878509Z"
    }
   },
   "cell_type": "code",
   "source": [
    "def tokenize_function (example):\n",
    "    return tokenizer(list(example['sentence1']),list(example['sentence2']), truncation=True, padding = 'max_length')"
   ],
   "id": "f92f9ec2ceb4b38f",
   "outputs": [],
   "execution_count": 26
  },
  {
   "metadata": {
    "ExecuteTime": {
     "end_time": "2025-10-22T08:58:52.385960Z",
     "start_time": "2025-10-22T08:58:50.682093Z"
    }
   },
   "cell_type": "code",
   "source": "tokenized_datasets = raw_datasets.map(tokenize_function, batched=True)",
   "id": "25c39c85e775e8aa",
   "outputs": [
    {
     "data": {
      "text/plain": [
       "Map:   0%|          | 0/3668 [00:00<?, ? examples/s]"
      ],
      "application/vnd.jupyter.widget-view+json": {
       "version_major": 2,
       "version_minor": 0,
       "model_id": "1a0027a8dbb04fcea4c84a635313e657"
      }
     },
     "metadata": {},
     "output_type": "display_data",
     "jetTransient": {
      "display_id": null
     }
    },
    {
     "data": {
      "text/plain": [
       "Map:   0%|          | 0/408 [00:00<?, ? examples/s]"
      ],
      "application/vnd.jupyter.widget-view+json": {
       "version_major": 2,
       "version_minor": 0,
       "model_id": "cee62869268e43899ef936d0df0a8328"
      }
     },
     "metadata": {},
     "output_type": "display_data",
     "jetTransient": {
      "display_id": null
     }
    },
    {
     "data": {
      "text/plain": [
       "Map:   0%|          | 0/1725 [00:00<?, ? examples/s]"
      ],
      "application/vnd.jupyter.widget-view+json": {
       "version_major": 2,
       "version_minor": 0,
       "model_id": "130ce1bc3a814a338ef9f6f530cdf226"
      }
     },
     "metadata": {},
     "output_type": "display_data",
     "jetTransient": {
      "display_id": null
     }
    }
   ],
   "execution_count": 27
  },
  {
   "metadata": {
    "ExecuteTime": {
     "end_time": "2025-10-22T08:58:53.533123Z",
     "start_time": "2025-10-22T08:58:53.528596Z"
    }
   },
   "cell_type": "code",
   "source": "data_collator = DataCollatorWithPadding(tokenizer = tokenizer)",
   "id": "69e4f737363daa30",
   "outputs": [],
   "execution_count": 28
  },
  {
   "metadata": {
    "ExecuteTime": {
     "end_time": "2025-10-22T08:58:53.775577Z",
     "start_time": "2025-10-22T08:58:53.768558Z"
    }
   },
   "cell_type": "code",
   "source": "raw_datasets",
   "id": "359fc7973d57b040",
   "outputs": [
    {
     "data": {
      "text/plain": [
       "DatasetDict({\n",
       "    train: Dataset({\n",
       "        features: ['sentence1', 'sentence2', 'label', 'idx'],\n",
       "        num_rows: 3668\n",
       "    })\n",
       "    validation: Dataset({\n",
       "        features: ['sentence1', 'sentence2', 'label', 'idx'],\n",
       "        num_rows: 408\n",
       "    })\n",
       "    test: Dataset({\n",
       "        features: ['sentence1', 'sentence2', 'label', 'idx'],\n",
       "        num_rows: 1725\n",
       "    })\n",
       "})"
      ]
     },
     "execution_count": 29,
     "metadata": {},
     "output_type": "execute_result"
    }
   ],
   "execution_count": 29
  },
  {
   "metadata": {
    "ExecuteTime": {
     "end_time": "2025-10-22T08:58:53.951031Z",
     "start_time": "2025-10-22T08:58:53.946516Z"
    }
   },
   "cell_type": "code",
   "source": "raw_datasets['train'].column_names",
   "id": "709645c85b2ca84a",
   "outputs": [
    {
     "data": {
      "text/plain": [
       "['sentence1', 'sentence2', 'label', 'idx']"
      ]
     },
     "execution_count": 30,
     "metadata": {},
     "output_type": "execute_result"
    }
   ],
   "execution_count": 30
  },
  {
   "metadata": {
    "ExecuteTime": {
     "end_time": "2025-10-22T08:58:54.144886Z",
     "start_time": "2025-10-22T08:58:54.135370Z"
    }
   },
   "cell_type": "code",
   "source": [
    "# Now we will do preprocessing before going into the training loop\n",
    "tokenized_datasets = tokenized_datasets.remove_columns(['sentence1', 'sentence2', 'idx'])"
   ],
   "id": "5463efc052b6c0cd",
   "outputs": [],
   "execution_count": 31
  },
  {
   "metadata": {
    "ExecuteTime": {
     "end_time": "2025-10-22T08:58:54.318781Z",
     "start_time": "2025-10-22T08:58:54.310781Z"
    }
   },
   "cell_type": "code",
   "source": "tokenized_datasets = tokenized_datasets.rename_column('label','labels')# model accepts 'labels' not 'label'",
   "id": "fdbfd91f7da8a1bc",
   "outputs": [],
   "execution_count": 32
  },
  {
   "metadata": {
    "ExecuteTime": {
     "end_time": "2025-10-22T08:58:54.486738Z",
     "start_time": "2025-10-22T08:58:54.480290Z"
    }
   },
   "cell_type": "code",
   "source": "tokenized_datasets.set_format('torch')",
   "id": "4c752000d2a8cf61",
   "outputs": [],
   "execution_count": 33
  },
  {
   "metadata": {
    "ExecuteTime": {
     "end_time": "2025-10-22T08:58:54.685543Z",
     "start_time": "2025-10-22T08:58:54.680528Z"
    }
   },
   "cell_type": "code",
   "source": "tokenized_datasets['train'].column_names # These are the columns that the model will accept",
   "id": "da8f87c265633f1d",
   "outputs": [
    {
     "data": {
      "text/plain": [
       "['labels', 'input_ids', 'token_type_ids', 'attention_mask']"
      ]
     },
     "execution_count": 34,
     "metadata": {},
     "output_type": "execute_result"
    }
   ],
   "execution_count": 34
  },
  {
   "metadata": {
    "ExecuteTime": {
     "end_time": "2025-10-22T08:58:55.243159Z",
     "start_time": "2025-10-22T08:58:55.240151Z"
    }
   },
   "cell_type": "code",
   "source": [
    "# now we will define teh dataloader of pytorch\n",
    "from torch.utils.data import DataLoader"
   ],
   "id": "d462728b7290e293",
   "outputs": [],
   "execution_count": 35
  },
  {
   "metadata": {
    "ExecuteTime": {
     "end_time": "2025-10-22T08:58:55.783849Z",
     "start_time": "2025-10-22T08:58:55.779839Z"
    }
   },
   "cell_type": "code",
   "source": [
    "train_dataloader = DataLoader(\n",
    "    tokenized_datasets['train'],shuffle = True, batch_size = 16, collate_fn = data_collator\n",
    ")"
   ],
   "id": "f4f807c9f793ca2b",
   "outputs": [],
   "execution_count": 36
  },
  {
   "metadata": {
    "ExecuteTime": {
     "end_time": "2025-10-22T08:58:56.366861Z",
     "start_time": "2025-10-22T08:58:56.362858Z"
    }
   },
   "cell_type": "code",
   "source": [
    "eval_dataloader = DataLoader(\n",
    "    tokenized_datasets['validation'], batch_size = 16, collate_fn = data_collator\n",
    ")"
   ],
   "id": "d060cee0e5803e6",
   "outputs": [],
   "execution_count": 37
  },
  {
   "metadata": {
    "ExecuteTime": {
     "end_time": "2025-10-22T08:58:58.923937Z",
     "start_time": "2025-10-22T08:58:58.899900Z"
    }
   },
   "cell_type": "code",
   "source": [
    "# Checking if everything is alright\n",
    "for batch in train_dataloader:\n",
    "    break\n",
    "{k: v.shape for k ,v in batch.items()}"
   ],
   "id": "838dd4f4388f5cd3",
   "outputs": [
    {
     "data": {
      "text/plain": [
       "{'labels': torch.Size([16]),\n",
       " 'input_ids': torch.Size([16, 512]),\n",
       " 'token_type_ids': torch.Size([16, 512]),\n",
       " 'attention_mask': torch.Size([16, 512])}"
      ]
     },
     "execution_count": 38,
     "metadata": {},
     "output_type": "execute_result"
    }
   ],
   "execution_count": 38
  },
  {
   "metadata": {
    "ExecuteTime": {
     "end_time": "2025-10-22T09:00:37.821267Z",
     "start_time": "2025-10-22T09:00:37.455688Z"
    }
   },
   "cell_type": "code",
   "source": [
    "# Now we instantiate the model\n",
    "from transformers import AutoModelForSequenceClassification\n",
    "model = AutoModelForSequenceClassification.from_pretrained(checkpoint, num_labels=2)"
   ],
   "id": "921f7ddd398e806",
   "outputs": [
    {
     "name": "stderr",
     "output_type": "stream",
     "text": [
      "Some weights of BertForSequenceClassification were not initialized from the model checkpoint at bert-base-uncased and are newly initialized: ['classifier.bias', 'classifier.weight']\n",
      "You should probably TRAIN this model on a down-stream task to be able to use it for predictions and inference.\n"
     ]
    }
   ],
   "execution_count": 40
  },
  {
   "metadata": {
    "ExecuteTime": {
     "end_time": "2025-10-22T09:00:58.131160Z",
     "start_time": "2025-10-22T09:00:49.338326Z"
    }
   },
   "cell_type": "code",
   "source": "outputs = model(**batch)",
   "id": "4f3fc601d4381b62",
   "outputs": [],
   "execution_count": 41
  },
  {
   "metadata": {
    "ExecuteTime": {
     "end_time": "2025-10-22T09:01:07.329624Z",
     "start_time": "2025-10-22T09:01:07.324607Z"
    }
   },
   "cell_type": "code",
   "source": "print(outputs.loss, outputs.logits.shape)",
   "id": "9cd7c9151a69cb88",
   "outputs": [
    {
     "name": "stdout",
     "output_type": "stream",
     "text": [
      "tensor(0.5700, grad_fn=<NllLossBackward0>) torch.Size([16, 2])\n"
     ]
    }
   ],
   "execution_count": 42
  },
  {
   "metadata": {
    "ExecuteTime": {
     "end_time": "2025-10-22T09:02:55.459895Z",
     "start_time": "2025-10-22T09:02:55.454381Z"
    }
   },
   "cell_type": "code",
   "source": [
    "# here we will use the AdamW opeimizer from pytorch\n",
    "from torch.optim import AdamW\n",
    "optimizer = AdamW(model.parameters(), lr = 5e-5, weight_decay=0.01)"
   ],
   "id": "2ccf62b4e99cc5b7",
   "outputs": [],
   "execution_count": 44
  },
  {
   "metadata": {
    "ExecuteTime": {
     "end_time": "2025-10-22T09:06:42.437553Z",
     "start_time": "2025-10-22T09:06:42.432035Z"
    }
   },
   "cell_type": "code",
   "source": [
    "# here we will defice the learning rate scheduler\n",
    "from transformers import get_scheduler\n",
    "\n",
    "num_epochs = 3\n",
    "num_training_steps = num_epochs*len(train_dataloader)\n",
    "lr_scheduler = get_scheduler(\n",
    "    'linear',\n",
    "    optimizer = optimizer,\n",
    "    num_warmup_steps = 0,\n",
    "    num_training_steps = num_training_steps\n",
    ")\n",
    "print(num_training_steps)"
   ],
   "id": "f3967f6c60e903b8",
   "outputs": [
    {
     "name": "stdout",
     "output_type": "stream",
     "text": [
      "690\n"
     ]
    }
   ],
   "execution_count": 47
  },
  {
   "metadata": {
    "ExecuteTime": {
     "end_time": "2025-10-22T09:08:44.917643Z",
     "start_time": "2025-10-22T09:08:44.681249Z"
    }
   },
   "cell_type": "code",
   "source": [
    "# I will use the GPU (RTX 3070) here (if you donot have one then donot run this cell)\n",
    "import torch\n",
    "device = torch.device('cuda' if torch.cuda.is_available() else 'cpu')\n",
    "model.to(device)\n",
    "device"
   ],
   "id": "14a66e6a05439be1",
   "outputs": [
    {
     "data": {
      "text/plain": [
       "device(type='cuda')"
      ]
     },
     "execution_count": 48,
     "metadata": {},
     "output_type": "execute_result"
    }
   ],
   "execution_count": 48
  },
  {
   "metadata": {
    "ExecuteTime": {
     "end_time": "2025-10-22T09:44:47.744636Z",
     "start_time": "2025-10-22T09:12:06.278623Z"
    }
   },
   "cell_type": "code",
   "source": [
    "# now we will make the training Loop\n",
    "from tqdm.auto import tqdm\n",
    "\n",
    "progress_bar = tqdm(range(num_training_steps))\n",
    "\n",
    "model.train()\n",
    "for epoch in range(num_epochs):\n",
    "    for batch in train_dataloader:\n",
    "        batch = {k: v.to(device) for k,v in batch.items()}\n",
    "        outputs = model(**batch)\n",
    "        loss = outputs.loss\n",
    "        loss.backward()\n",
    "\n",
    "        optimizer.step()\n",
    "        lr_scheduler.step()\n",
    "        optimizer.zero_grad()\n",
    "        progress_bar.update()"
   ],
   "id": "d7528ba3ca24869a",
   "outputs": [
    {
     "data": {
      "text/plain": [
       "  0%|          | 0/690 [00:00<?, ?it/s]"
      ],
      "application/vnd.jupyter.widget-view+json": {
       "version_major": 2,
       "version_minor": 0,
       "model_id": "8acb8c2be69a454d9e4380d46408174f"
      }
     },
     "metadata": {},
     "output_type": "display_data",
     "jetTransient": {
      "display_id": null
     }
    }
   ],
   "execution_count": 49
  },
  {
   "metadata": {
    "ExecuteTime": {
     "end_time": "2025-10-22T09:47:39.694992Z",
     "start_time": "2025-10-22T09:47:32.126555Z"
    }
   },
   "cell_type": "code",
   "source": [
    "# now we will make the evaluation loop\n",
    "import evaluate\n",
    "\n",
    "metric  = evaluate.load('glue', 'mrpc')\n",
    "model.eval()\n",
    "for batch in eval_dataloader:\n",
    "    batch = {k:v.to(device) for k,v in batch.items()}\n",
    "    with torch.no_grad():\n",
    "        outputs = model(**batch)\n",
    "\n",
    "    logits= outputs.logits\n",
    "    predictions = torch.argmax(logits, dim = -1)\n",
    "    metric.add_batch(predictions = predictions ,references =  batch['labels'])\n",
    "\n",
    "metric.compute()"
   ],
   "id": "ae4fcc750f86e268",
   "outputs": [
    {
     "data": {
      "text/plain": [
       "{'accuracy': 0.8504901960784313, 'f1': 0.893542757417103}"
      ]
     },
     "execution_count": 51,
     "metadata": {},
     "output_type": "execute_result"
    }
   ],
   "execution_count": 51
  },
  {
   "metadata": {},
   "cell_type": "code",
   "outputs": [],
   "execution_count": null,
   "source": "",
   "id": "125d5615920e8487"
  }
 ],
 "metadata": {
  "kernelspec": {
   "display_name": "Python 3",
   "language": "python",
   "name": "python3"
  },
  "language_info": {
   "codemirror_mode": {
    "name": "ipython",
    "version": 2
   },
   "file_extension": ".py",
   "mimetype": "text/x-python",
   "name": "python",
   "nbconvert_exporter": "python",
   "pygments_lexer": "ipython2",
   "version": "2.7.6"
  }
 },
 "nbformat": 4,
 "nbformat_minor": 5
}
