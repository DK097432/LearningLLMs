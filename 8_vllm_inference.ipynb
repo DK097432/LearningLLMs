{
 "cells": [
  {
   "cell_type": "code",
   "id": "initial_id",
   "metadata": {
    "collapsed": true,
    "ExecuteTime": {
     "end_time": "2025-10-18T18:57:59.419652Z",
     "start_time": "2025-10-18T18:57:58.574145Z"
    }
   },
   "source": "from openai import OpenAI",
   "outputs": [],
   "execution_count": 4
  },
  {
   "metadata": {
    "ExecuteTime": {
     "end_time": "2025-10-18T19:03:18.378867Z",
     "start_time": "2025-10-18T19:03:18.358892Z"
    }
   },
   "cell_type": "code",
   "source": [
    "client = OpenAI(\n",
    "    base_url='http://localhost:8080/v1',\n",
    "    api_key='not-needed'\n",
    ")"
   ],
   "id": "65c5f6ebdb7f7934",
   "outputs": [],
   "execution_count": 8
  },
  {
   "metadata": {
    "ExecuteTime": {
     "end_time": "2025-10-18T19:03:26.476159Z",
     "start_time": "2025-10-18T19:03:19.245811Z"
    }
   },
   "cell_type": "code",
   "source": [
    "response = client.chat.completions.create(\n",
    "    model = 'HuggingFaceTB/SmolLM2-360M-Instruct',\n",
    "    messages=[\n",
    "        {'role':'system','content':'You are a great historian'},\n",
    "        {'role':'user','content':'who are the greatest roman emperors'}\n",
    "    ],\n",
    "    max_tokens=500,\n",
    "    temperature=0.7,\n",
    "    top_p=0.95\n",
    ")"
   ],
   "id": "25dfc73a952010c5",
   "outputs": [],
   "execution_count": 9
  },
  {
   "metadata": {
    "ExecuteTime": {
     "end_time": "2025-10-18T19:05:02.254365Z",
     "start_time": "2025-10-18T19:05:02.249367Z"
    }
   },
   "cell_type": "code",
   "source": "print(response.choices[0].message.content)\n",
   "id": "1dfb1e8b2b090b65",
   "outputs": [
    {
     "name": "stdout",
     "output_type": "stream",
     "text": [
      "The Roman Empire was a long-lasting and influential civilization, spanning over 500 years. While there were many great emperors, some of the most renowned ones include:\n",
      "\n",
      "1. Augustus (27 BC - 14 AD): Augustus was the first Roman emperor and is often referred to as the \"Father of Rome.\" He united the Roman Republic under his rule, established the Principate, and reformed the Roman government.\n",
      "\n",
      "2. Trajan (98 BC - 117 AD): Trajan was the second emperor of the Roman Empire and expanded the empire's territories through military campaigns. He was also a great leader and administrator who built roads, bridges, and public buildings.\n",
      "\n",
      "3. Hadrian (76 - 138 AD): Hadrian was the emperor of Rome from 117 to 138 AD and oversaw significant construction projects, including the construction of Hadrian's Wall, a border fortification along the north of England.\n",
      "\n",
      "4. Marcus Aurelius (161 AD - 180 AD): Marcus Aurelius was the emperor of Rome from 161 to 180 AD and is remembered for his philosophical writings, particularly \"Meditations.\" He was a skilled military leader and administrator who expanded the empire's territories through military campaigns.\n",
      "\n",
      "5. Commodus (161 - 192 AD): Commodus was the emperor of Rome from 177 to 192 AD and is known for his extravagance and wealth. He was the first emperor to wear a beard and was known for his love of games and entertainment.\n",
      "\n",
      "These were just a few of the many great emperors of the Roman Empire. Each had their unique contributions to the empire and left a lasting impact on its history and culture.\n"
     ]
    }
   ],
   "execution_count": 11
  },
  {
   "metadata": {},
   "cell_type": "code",
   "outputs": [],
   "execution_count": null,
   "source": "",
   "id": "a63c2e0d2d5f2c51"
  }
 ],
 "metadata": {
  "kernelspec": {
   "display_name": "Python 3",
   "language": "python",
   "name": "python3"
  },
  "language_info": {
   "codemirror_mode": {
    "name": "ipython",
    "version": 2
   },
   "file_extension": ".py",
   "mimetype": "text/x-python",
   "name": "python",
   "nbconvert_exporter": "python",
   "pygments_lexer": "ipython2",
   "version": "2.7.6"
  }
 },
 "nbformat": 4,
 "nbformat_minor": 5
}
