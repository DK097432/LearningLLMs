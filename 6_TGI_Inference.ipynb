{
 "cells": [
  {
   "cell_type": "code",
   "id": "initial_id",
   "metadata": {
    "collapsed": true,
    "ExecuteTime": {
     "end_time": "2025-10-17T21:52:59.848031Z",
     "start_time": "2025-10-17T21:52:59.352510Z"
    }
   },
   "source": "from huggingface_hub import InferenceClient",
   "outputs": [],
   "execution_count": 1
  },
  {
   "metadata": {
    "ExecuteTime": {
     "end_time": "2025-10-17T21:59:49.182626Z",
     "start_time": "2025-10-17T21:59:49.179621Z"
    }
   },
   "cell_type": "code",
   "source": [
    "# First install TGI server with the help of docker. Then download any huggingface llm model. then run the model using TGI server locally at port 8080 using your terminal\n",
    "# Initialize client pointing to TGI endpoint\n",
    "client = InferenceClient(\n",
    "    model= 'http://localhost:8080' # URL of TGI server\n",
    ")"
   ],
   "id": "3207f987866559bd",
   "outputs": [],
   "execution_count": 16
  },
  {
   "metadata": {
    "ExecuteTime": {
     "end_time": "2025-10-17T22:08:12.303132Z",
     "start_time": "2025-10-17T22:08:12.225433Z"
    }
   },
   "cell_type": "code",
   "source": [
    "# Now generate text\n",
    "response = client.text_generation(\n",
    "    'Tell me about Einstein',\n",
    "    max_new_tokens=40000,\n",
    "    temperature=0.2,\n",
    "    top_p = 0.95,\n",
    "    details=True,\n",
    "    stop_sequences=[],\n",
    ")"
   ],
   "id": "ee1fc313928666ba",
   "outputs": [],
   "execution_count": 43
  },
  {
   "metadata": {
    "ExecuteTime": {
     "end_time": "2025-10-17T22:08:12.878807Z",
     "start_time": "2025-10-17T22:08:12.873810Z"
    }
   },
   "cell_type": "code",
   "source": "print(response.generated_text)",
   "id": "959a85216b84994f",
   "outputs": [
    {
     "name": "stdout",
     "output_type": "stream",
     "text": [
      "Tell me about Einstein's theory of relativity.\n"
     ]
    }
   ],
   "execution_count": 44
  },
  {
   "metadata": {
    "ExecuteTime": {
     "end_time": "2025-10-17T22:08:30.437931Z",
     "start_time": "2025-10-17T22:08:26.889462Z"
    }
   },
   "cell_type": "code",
   "source": [
    "# Chatting Format\n",
    "response = client.chat_completion(\n",
    "    messages=[\n",
    "        {'role':'system','content':'You are a helpful assistant'},\n",
    "        {'role': 'user','content': 'Tell me about Einstein'}\n",
    "    ],\n",
    "    max_tokens=100000,\n",
    "    temperature=0.8,\n",
    "    top_p = 0.95\n",
    ")"
   ],
   "id": "cc3b734e97148252",
   "outputs": [],
   "execution_count": 45
  },
  {
   "metadata": {
    "ExecuteTime": {
     "end_time": "2025-10-17T22:08:31.553170Z",
     "start_time": "2025-10-17T22:08:31.548169Z"
    }
   },
   "cell_type": "code",
   "source": "print(response.choices[0].message.content)",
   "id": "666e54b437f3b78e",
   "outputs": [
    {
     "name": "stdout",
     "output_type": "stream",
     "text": [
      "Einstein, one of the most influential scientists in history, was born on March 14, 1879, in Ulm, Germany. He is best known for his groundbreaking theory of relativity, which challenged the conventional understanding of space and time. Einstein's theory, published in 1905, introduced several key concepts, including the concept of special relativity and the theory of general relativity.\n",
      "\n",
      "Special relativity, introduced in 1905, stated that the laws of physics are the same for all observers in uniform motion relative to one another. This led to a fundamental shift in our understanding of space and time. The theory challenged the long-held notion of absolute time and space, and introduced the concept of spacetime as a unified, four-dimensional fabric.\n",
      "\n",
      "General relativity, introduced in 1915, further developed the concept of spacetime. Einstein's theory predicted the existence of gravitational waves, which are ripples in the fabric of spacetime produced by the acceleration of massive objects, such as black holes. This theory revolutionized our understanding of the universe, from the behavior of celestial objects to the expansion of the cosmos itself.\n",
      "\n",
      "Throughout his life, Einstein worked on his theory, often working at night in his laboratory, and was known for his tireless pursuit of knowledge and his unwavering dedication to his work. He also made significant contributions to other fields, including physics, mathematics, and philosophy.\n",
      "\n",
      "One of Einstein's most famous equations is E=mc^2, which describes the energy-mass equivalence principle. This equation relates the mass of an object to its energy content, and is a fundamental concept in modern physics.\n",
      "\n",
      "Einstein's legacy extends far beyond his work on relativity. His theories had a profound impact on physics and science, and continue to influence our understanding of the universe today. His work on relativity, in particular, continues to inspire new discoveries and advancements in fields such as astrophysics, cosmology, and particle physics.\n",
      "\n",
      "Einstein's influence can be seen in many aspects of modern life, including the development of computers, televisions, and GPS technology. He was a true visionary, and his work continues to shape our understanding of the world and our place within it.\n"
     ]
    }
   ],
   "execution_count": 46
  },
  {
   "metadata": {},
   "cell_type": "code",
   "outputs": [],
   "execution_count": null,
   "source": "",
   "id": "dd0a8d86d02533b8"
  }
 ],
 "metadata": {
  "kernelspec": {
   "display_name": "Python 3",
   "language": "python",
   "name": "python3"
  },
  "language_info": {
   "codemirror_mode": {
    "name": "ipython",
    "version": 2
   },
   "file_extension": ".py",
   "mimetype": "text/x-python",
   "name": "python",
   "nbconvert_exporter": "python",
   "pygments_lexer": "ipython2",
   "version": "2.7.6"
  }
 },
 "nbformat": 4,
 "nbformat_minor": 5
}
