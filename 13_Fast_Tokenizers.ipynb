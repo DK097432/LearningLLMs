{
 "cells": [
  {
   "cell_type": "code",
   "id": "initial_id",
   "metadata": {
    "collapsed": true,
    "ExecuteTime": {
     "end_time": "2025-10-28T16:55:47.918277Z",
     "start_time": "2025-10-28T16:55:37.405077Z"
    }
   },
   "source": [
    "from transformers import AutoTokenizer\n",
    "import torch"
   ],
   "outputs": [],
   "execution_count": 1
  },
  {
   "metadata": {
    "ExecuteTime": {
     "end_time": "2025-10-28T16:55:52.336088Z",
     "start_time": "2025-10-28T16:55:50.552091Z"
    }
   },
   "cell_type": "code",
   "source": "tokenizer = AutoTokenizer.from_pretrained('bert-base-cased')",
   "id": "fb4a6d80ef7151fe",
   "outputs": [],
   "execution_count": 2
  },
  {
   "metadata": {
    "ExecuteTime": {
     "end_time": "2025-10-28T16:56:36.800891Z",
     "start_time": "2025-10-28T16:56:36.792377Z"
    }
   },
   "cell_type": "code",
   "source": [
    "sentence = 'Hello I am Dawood Khan Learning LLMs here'\n",
    "encode = tokenizer(sentence)\n",
    "print(type(encode))"
   ],
   "id": "2a89bf1340fe68fb",
   "outputs": [
    {
     "name": "stdout",
     "output_type": "stream",
     "text": [
      "<class 'transformers.tokenization_utils_base.BatchEncoding'>\n"
     ]
    }
   ],
   "execution_count": 3
  },
  {
   "metadata": {
    "ExecuteTime": {
     "end_time": "2025-10-28T16:57:08.529606Z",
     "start_time": "2025-10-28T16:57:08.520604Z"
    }
   },
   "cell_type": "code",
   "source": [
    "# Tokenizer is already fast by default after using AutoTokenizer\n",
    "tokenizer.is_fast"
   ],
   "id": "2e50a6f050473585",
   "outputs": [
    {
     "data": {
      "text/plain": [
       "True"
      ]
     },
     "execution_count": 4,
     "metadata": {},
     "output_type": "execute_result"
    }
   ],
   "execution_count": 4
  },
  {
   "metadata": {
    "ExecuteTime": {
     "end_time": "2025-10-28T16:57:38.186018Z",
     "start_time": "2025-10-28T16:57:38.181016Z"
    }
   },
   "cell_type": "code",
   "source": "encode.is_fast",
   "id": "ec75746659204045",
   "outputs": [
    {
     "data": {
      "text/plain": [
       "True"
      ]
     },
     "execution_count": 5,
     "metadata": {},
     "output_type": "execute_result"
    }
   ],
   "execution_count": 5
  },
  {
   "metadata": {
    "ExecuteTime": {
     "end_time": "2025-10-28T16:57:49.028370Z",
     "start_time": "2025-10-28T16:57:49.021370Z"
    }
   },
   "cell_type": "code",
   "source": "encode.tokens()",
   "id": "a180c9f7a5bca1f6",
   "outputs": [
    {
     "data": {
      "text/plain": [
       "['[CLS]',\n",
       " 'Hello',\n",
       " 'I',\n",
       " 'am',\n",
       " 'Da',\n",
       " '##wood',\n",
       " 'Khan',\n",
       " 'Learning',\n",
       " 'LL',\n",
       " '##Ms',\n",
       " 'here',\n",
       " '[SEP]']"
      ]
     },
     "execution_count": 6,
     "metadata": {},
     "output_type": "execute_result"
    }
   ],
   "execution_count": 6
  },
  {
   "metadata": {
    "ExecuteTime": {
     "end_time": "2025-10-28T16:58:11.975725Z",
     "start_time": "2025-10-28T16:58:11.969725Z"
    }
   },
   "cell_type": "code",
   "source": "encode['input_ids']",
   "id": "397bf986ec181724",
   "outputs": [
    {
     "data": {
      "text/plain": [
       "[101, 8667, 146, 1821, 10136, 2615, 4340, 9681, 12427, 25866, 1303, 102]"
      ]
     },
     "execution_count": 7,
     "metadata": {},
     "output_type": "execute_result"
    }
   ],
   "execution_count": 7
  },
  {
   "metadata": {
    "ExecuteTime": {
     "end_time": "2025-10-28T16:58:32.319740Z",
     "start_time": "2025-10-28T16:58:32.313738Z"
    }
   },
   "cell_type": "code",
   "source": "encode.word_ids()# CLS and SEP are mapped to None here",
   "id": "cc10a4c353e3de07",
   "outputs": [
    {
     "data": {
      "text/plain": [
       "[None, 0, 1, 2, 3, 3, 4, 5, 6, 6, 7, None]"
      ]
     },
     "execution_count": 9,
     "metadata": {},
     "output_type": "execute_result"
    }
   ],
   "execution_count": 9
  },
  {
   "metadata": {
    "ExecuteTime": {
     "end_time": "2025-10-28T17:11:11.301979Z",
     "start_time": "2025-10-28T17:11:11.297975Z"
    }
   },
   "cell_type": "code",
   "source": "start, end = encode.word_to_chars(3)",
   "id": "ad9e786b6e880cf8",
   "outputs": [],
   "execution_count": 17
  },
  {
   "metadata": {
    "ExecuteTime": {
     "end_time": "2025-10-28T17:11:11.583893Z",
     "start_time": "2025-10-28T17:11:11.578892Z"
    }
   },
   "cell_type": "code",
   "source": "sentence[start:end]",
   "id": "e15d42578f3bbafa",
   "outputs": [
    {
     "data": {
      "text/plain": [
       "'Dawood'"
      ]
     },
     "execution_count": 18,
     "metadata": {},
     "output_type": "execute_result"
    }
   ],
   "execution_count": 18
  },
  {
   "metadata": {
    "ExecuteTime": {
     "end_time": "2025-10-28T17:12:55.603352Z",
     "start_time": "2025-10-28T17:12:55.599352Z"
    }
   },
   "cell_type": "code",
   "source": "start, end = encode.token_to_chars(6)",
   "id": "2aa4ce7fb02a5b95",
   "outputs": [],
   "execution_count": 24
  },
  {
   "metadata": {
    "ExecuteTime": {
     "end_time": "2025-10-28T17:12:56.315347Z",
     "start_time": "2025-10-28T17:12:56.310347Z"
    }
   },
   "cell_type": "code",
   "source": "sentence[start:end]",
   "id": "54077af1828970da",
   "outputs": [
    {
     "data": {
      "text/plain": [
       "'Khan'"
      ]
     },
     "execution_count": 25,
     "metadata": {},
     "output_type": "execute_result"
    }
   ],
   "execution_count": 25
  },
  {
   "metadata": {},
   "cell_type": "code",
   "outputs": [],
   "execution_count": null,
   "source": "",
   "id": "769d73fcc7d7d7c0"
  }
 ],
 "metadata": {
  "kernelspec": {
   "display_name": "Python 3",
   "language": "python",
   "name": "python3"
  },
  "language_info": {
   "codemirror_mode": {
    "name": "ipython",
    "version": 2
   },
   "file_extension": ".py",
   "mimetype": "text/x-python",
   "name": "python",
   "nbconvert_exporter": "python",
   "pygments_lexer": "ipython2",
   "version": "2.7.6"
  }
 },
 "nbformat": 4,
 "nbformat_minor": 5
}
