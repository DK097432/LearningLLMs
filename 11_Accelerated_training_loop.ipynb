{
 "cells": [
  {
   "cell_type": "code",
   "id": "initial_id",
   "metadata": {
    "collapsed": true,
    "ExecuteTime": {
     "end_time": "2025-10-22T09:58:29.698224Z",
     "start_time": "2025-10-22T09:58:29.694223Z"
    }
   },
   "source": [
    "import torch\n",
    "from datasets import load_dataset\n",
    "from torch import GradScaler\n",
    "from transformers import AutoTokenizer, DataCollatorWithPadding\n",
    "\n",
    "from Pytorch.CNN import outputs\n",
    "\n"
   ],
   "outputs": [],
   "execution_count": 3
  },
  {
   "metadata": {
    "ExecuteTime": {
     "end_time": "2025-10-22T09:58:40.968535Z",
     "start_time": "2025-10-22T09:58:30.570512Z"
    }
   },
   "cell_type": "code",
   "source": "raw_datasets = load_dataset('glue', 'mrpc')",
   "id": "f85770fcde665b4d",
   "outputs": [],
   "execution_count": 4
  },
  {
   "metadata": {
    "ExecuteTime": {
     "end_time": "2025-10-22T09:58:41.921865Z",
     "start_time": "2025-10-22T09:58:40.973541Z"
    }
   },
   "cell_type": "code",
   "source": [
    "checkpoint = 'bert-base-uncased'\n",
    "tokenizer = AutoTokenizer.from_pretrained(checkpoint)"
   ],
   "id": "b6abb7762b88d882",
   "outputs": [],
   "execution_count": 5
  },
  {
   "metadata": {
    "ExecuteTime": {
     "end_time": "2025-10-22T09:58:41.946870Z",
     "start_time": "2025-10-22T09:58:41.942866Z"
    }
   },
   "cell_type": "code",
   "source": [
    "def tokenize_function (example):\n",
    "    return tokenizer(list(example['sentence1']),list(example['sentence2']), truncation=True, padding = 'max_length')"
   ],
   "id": "f92f9ec2ceb4b38f",
   "outputs": [],
   "execution_count": 6
  },
  {
   "metadata": {
    "ExecuteTime": {
     "end_time": "2025-10-22T09:58:43.794955Z",
     "start_time": "2025-10-22T09:58:41.954868Z"
    }
   },
   "cell_type": "code",
   "source": "tokenized_datasets = raw_datasets.map(tokenize_function, batched=True)",
   "id": "25c39c85e775e8aa",
   "outputs": [
    {
     "data": {
      "text/plain": [
       "Map:   0%|          | 0/3668 [00:00<?, ? examples/s]"
      ],
      "application/vnd.jupyter.widget-view+json": {
       "version_major": 2,
       "version_minor": 0,
       "model_id": "ccb20d6e4c304555ab8025c8a135e05d"
      }
     },
     "metadata": {},
     "output_type": "display_data",
     "jetTransient": {
      "display_id": null
     }
    },
    {
     "data": {
      "text/plain": [
       "Map:   0%|          | 0/408 [00:00<?, ? examples/s]"
      ],
      "application/vnd.jupyter.widget-view+json": {
       "version_major": 2,
       "version_minor": 0,
       "model_id": "0624e11a20f44070bd024e903835fefe"
      }
     },
     "metadata": {},
     "output_type": "display_data",
     "jetTransient": {
      "display_id": null
     }
    },
    {
     "data": {
      "text/plain": [
       "Map:   0%|          | 0/1725 [00:00<?, ? examples/s]"
      ],
      "application/vnd.jupyter.widget-view+json": {
       "version_major": 2,
       "version_minor": 0,
       "model_id": "8897df0ee6ae4018b0617f610de19259"
      }
     },
     "metadata": {},
     "output_type": "display_data",
     "jetTransient": {
      "display_id": null
     }
    }
   ],
   "execution_count": 7
  },
  {
   "metadata": {
    "ExecuteTime": {
     "end_time": "2025-10-22T09:58:43.818956Z",
     "start_time": "2025-10-22T09:58:43.813958Z"
    }
   },
   "cell_type": "code",
   "source": "data_collator = DataCollatorWithPadding(tokenizer = tokenizer)",
   "id": "69e4f737363daa30",
   "outputs": [],
   "execution_count": 8
  },
  {
   "metadata": {
    "ExecuteTime": {
     "end_time": "2025-10-22T09:58:43.832960Z",
     "start_time": "2025-10-22T09:58:43.826960Z"
    }
   },
   "cell_type": "code",
   "source": "raw_datasets",
   "id": "359fc7973d57b040",
   "outputs": [
    {
     "data": {
      "text/plain": [
       "DatasetDict({\n",
       "    train: Dataset({\n",
       "        features: ['sentence1', 'sentence2', 'label', 'idx'],\n",
       "        num_rows: 3668\n",
       "    })\n",
       "    validation: Dataset({\n",
       "        features: ['sentence1', 'sentence2', 'label', 'idx'],\n",
       "        num_rows: 408\n",
       "    })\n",
       "    test: Dataset({\n",
       "        features: ['sentence1', 'sentence2', 'label', 'idx'],\n",
       "        num_rows: 1725\n",
       "    })\n",
       "})"
      ]
     },
     "execution_count": 9,
     "metadata": {},
     "output_type": "execute_result"
    }
   ],
   "execution_count": 9
  },
  {
   "metadata": {
    "ExecuteTime": {
     "end_time": "2025-10-22T09:58:43.846957Z",
     "start_time": "2025-10-22T09:58:43.841956Z"
    }
   },
   "cell_type": "code",
   "source": "raw_datasets['train'].column_names",
   "id": "709645c85b2ca84a",
   "outputs": [
    {
     "data": {
      "text/plain": [
       "['sentence1', 'sentence2', 'label', 'idx']"
      ]
     },
     "execution_count": 10,
     "metadata": {},
     "output_type": "execute_result"
    }
   ],
   "execution_count": 10
  },
  {
   "metadata": {
    "ExecuteTime": {
     "end_time": "2025-10-22T09:58:43.866960Z",
     "start_time": "2025-10-22T09:58:43.856960Z"
    }
   },
   "cell_type": "code",
   "source": [
    "# Now we will do preprocessing before going into the training loop\n",
    "tokenized_datasets = tokenized_datasets.remove_columns(['sentence1', 'sentence2', 'idx'])"
   ],
   "id": "5463efc052b6c0cd",
   "outputs": [],
   "execution_count": 11
  },
  {
   "metadata": {
    "ExecuteTime": {
     "end_time": "2025-10-22T09:58:43.897956Z",
     "start_time": "2025-10-22T09:58:43.887956Z"
    }
   },
   "cell_type": "code",
   "source": "tokenized_datasets = tokenized_datasets.rename_column('label','labels')# model accepts 'labels' not 'label'",
   "id": "fdbfd91f7da8a1bc",
   "outputs": [],
   "execution_count": 12
  },
  {
   "metadata": {
    "ExecuteTime": {
     "end_time": "2025-10-22T09:58:43.907956Z",
     "start_time": "2025-10-22T09:58:43.902957Z"
    }
   },
   "cell_type": "code",
   "source": "tokenized_datasets.set_format('torch')",
   "id": "4c752000d2a8cf61",
   "outputs": [],
   "execution_count": 13
  },
  {
   "metadata": {
    "ExecuteTime": {
     "end_time": "2025-10-22T09:58:43.920960Z",
     "start_time": "2025-10-22T09:58:43.914956Z"
    }
   },
   "cell_type": "code",
   "source": "tokenized_datasets['train'].column_names # These are the columns that the model will accept",
   "id": "da8f87c265633f1d",
   "outputs": [
    {
     "data": {
      "text/plain": [
       "['labels', 'input_ids', 'token_type_ids', 'attention_mask']"
      ]
     },
     "execution_count": 14,
     "metadata": {},
     "output_type": "execute_result"
    }
   ],
   "execution_count": 14
  },
  {
   "metadata": {
    "ExecuteTime": {
     "end_time": "2025-10-22T09:58:43.932956Z",
     "start_time": "2025-10-22T09:58:43.928957Z"
    }
   },
   "cell_type": "code",
   "source": [
    "# now we will define teh dataloader of pytorch\n",
    "from torch.utils.data import DataLoader"
   ],
   "id": "d462728b7290e293",
   "outputs": [],
   "execution_count": 15
  },
  {
   "metadata": {
    "ExecuteTime": {
     "end_time": "2025-10-22T09:58:43.953958Z",
     "start_time": "2025-10-22T09:58:43.949955Z"
    }
   },
   "cell_type": "code",
   "source": [
    "train_dataloader = DataLoader(\n",
    "    tokenized_datasets['train'],shuffle = True, batch_size = 16, collate_fn = data_collator\n",
    ")"
   ],
   "id": "f4f807c9f793ca2b",
   "outputs": [],
   "execution_count": 16
  },
  {
   "metadata": {
    "ExecuteTime": {
     "end_time": "2025-10-22T09:58:43.963960Z",
     "start_time": "2025-10-22T09:58:43.959957Z"
    }
   },
   "cell_type": "code",
   "source": [
    "eval_dataloader = DataLoader(\n",
    "    tokenized_datasets['validation'], batch_size = 16, collate_fn = data_collator\n",
    ")"
   ],
   "id": "d060cee0e5803e6",
   "outputs": [],
   "execution_count": 17
  },
  {
   "metadata": {
    "ExecuteTime": {
     "end_time": "2025-10-22T09:58:45.786916Z",
     "start_time": "2025-10-22T09:58:45.763413Z"
    }
   },
   "cell_type": "code",
   "source": [
    "# Checking if everything is alright\n",
    "for batch in train_dataloader:\n",
    "    break\n",
    "{k: v.shape for k ,v in batch.items()}"
   ],
   "id": "838dd4f4388f5cd3",
   "outputs": [
    {
     "data": {
      "text/plain": [
       "{'labels': torch.Size([16]),\n",
       " 'input_ids': torch.Size([16, 512]),\n",
       " 'token_type_ids': torch.Size([16, 512]),\n",
       " 'attention_mask': torch.Size([16, 512])}"
      ]
     },
     "execution_count": 18,
     "metadata": {},
     "output_type": "execute_result"
    }
   ],
   "execution_count": 18
  },
  {
   "metadata": {
    "ExecuteTime": {
     "end_time": "2025-10-22T09:00:37.821267Z",
     "start_time": "2025-10-22T09:00:37.455688Z"
    }
   },
   "cell_type": "code",
   "source": [
    "# Now we instantiate the model\n",
    "from transformers import AutoModelForSequenceClassification\n",
    "model = AutoModelForSequenceClassification.from_pretrained(checkpoint, num_labels=2)"
   ],
   "id": "921f7ddd398e806",
   "outputs": [
    {
     "name": "stderr",
     "output_type": "stream",
     "text": [
      "Some weights of BertForSequenceClassification were not initialized from the model checkpoint at bert-base-uncased and are newly initialized: ['classifier.bias', 'classifier.weight']\n",
      "You should probably TRAIN this model on a down-stream task to be able to use it for predictions and inference.\n"
     ]
    }
   ],
   "execution_count": 40
  },
  {
   "metadata": {
    "ExecuteTime": {
     "end_time": "2025-10-22T09:00:58.131160Z",
     "start_time": "2025-10-22T09:00:49.338326Z"
    }
   },
   "cell_type": "code",
   "source": "outputs = model(**batch)",
   "id": "4f3fc601d4381b62",
   "outputs": [],
   "execution_count": 41
  },
  {
   "metadata": {
    "ExecuteTime": {
     "end_time": "2025-10-22T09:01:07.329624Z",
     "start_time": "2025-10-22T09:01:07.324607Z"
    }
   },
   "cell_type": "code",
   "source": "print(outputs.loss, outputs.logits.shape)",
   "id": "9cd7c9151a69cb88",
   "outputs": [
    {
     "name": "stdout",
     "output_type": "stream",
     "text": [
      "tensor(0.5700, grad_fn=<NllLossBackward0>) torch.Size([16, 2])\n"
     ]
    }
   ],
   "execution_count": 42
  },
  {
   "metadata": {
    "ExecuteTime": {
     "end_time": "2025-10-22T09:02:55.459895Z",
     "start_time": "2025-10-22T09:02:55.454381Z"
    }
   },
   "cell_type": "code",
   "source": [
    "# here we will use the AdamW opeimizer from pytorch\n",
    "from torch.optim import AdamW\n",
    "optimizer = AdamW(model.parameters(), lr = 5e-5, weight_decay=0.01)"
   ],
   "id": "2ccf62b4e99cc5b7",
   "outputs": [],
   "execution_count": 44
  },
  {
   "metadata": {
    "ExecuteTime": {
     "end_time": "2025-10-22T09:06:42.437553Z",
     "start_time": "2025-10-22T09:06:42.432035Z"
    }
   },
   "cell_type": "code",
   "source": [
    "# here we will defice the learning rate scheduler\n",
    "from transformers import get_scheduler\n",
    "\n",
    "num_epochs = 3\n",
    "num_training_steps = num_epochs*len(train_dataloader)\n",
    "lr_scheduler = get_scheduler(\n",
    "    'linear',\n",
    "    optimizer = optimizer,\n",
    "    num_warmup_steps = 0,\n",
    "    num_training_steps = num_training_steps\n",
    ")\n",
    "print(num_training_steps)"
   ],
   "id": "f3967f6c60e903b8",
   "outputs": [
    {
     "name": "stdout",
     "output_type": "stream",
     "text": [
      "690\n"
     ]
    }
   ],
   "execution_count": 47
  },
  {
   "metadata": {
    "ExecuteTime": {
     "end_time": "2025-10-22T09:08:44.917643Z",
     "start_time": "2025-10-22T09:08:44.681249Z"
    }
   },
   "cell_type": "code",
   "source": [
    "# I will use the GPU (RTX 3070) here (if you donot have one then donot run this cell)\n",
    "import torch\n",
    "device = torch.device('cuda' if torch.cuda.is_available() else 'cpu')\n",
    "model.to(device)\n",
    "device"
   ],
   "id": "14a66e6a05439be1",
   "outputs": [
    {
     "data": {
      "text/plain": [
       "device(type='cuda')"
      ]
     },
     "execution_count": 48,
     "metadata": {},
     "output_type": "execute_result"
    }
   ],
   "execution_count": 48
  },
  {
   "metadata": {
    "ExecuteTime": {
     "end_time": "2025-10-22T09:44:47.744636Z",
     "start_time": "2025-10-22T09:12:06.278623Z"
    }
   },
   "cell_type": "code",
   "source": [
    "# now we will make the training Loop\n",
    "from tqdm.auto import tqdm\n",
    "\n",
    "progress_bar = tqdm(range(num_training_steps))\n",
    "\n",
    "model.train()\n",
    "for epoch in range(num_epochs):\n",
    "    for batch in train_dataloader:\n",
    "        batch = {k: v.to(device) for k,v in batch.items()}\n",
    "        outputs = model(**batch)\n",
    "        loss = outputs.loss\n",
    "        loss.backward()\n",
    "\n",
    "        optimizer.step()\n",
    "        lr_scheduler.step()\n",
    "        optimizer.zero_grad()\n",
    "        progress_bar.update()"
   ],
   "id": "d7528ba3ca24869a",
   "outputs": [
    {
     "data": {
      "text/plain": [
       "  0%|          | 0/690 [00:00<?, ?it/s]"
      ],
      "application/vnd.jupyter.widget-view+json": {
       "version_major": 2,
       "version_minor": 0,
       "model_id": "8acb8c2be69a454d9e4380d46408174f"
      }
     },
     "metadata": {},
     "output_type": "display_data",
     "jetTransient": {
      "display_id": null
     }
    }
   ],
   "execution_count": 49
  },
  {
   "metadata": {
    "ExecuteTime": {
     "end_time": "2025-10-22T09:47:39.694992Z",
     "start_time": "2025-10-22T09:47:32.126555Z"
    }
   },
   "cell_type": "code",
   "source": [
    "# now we will make the evaluation loop\n",
    "import evaluate\n",
    "\n",
    "metric  = evaluate.load('glue', 'mrpc')\n",
    "model.eval()\n",
    "for batch in eval_dataloader:\n",
    "    batch = {k:v.to(device) for k,v in batch.items()}\n",
    "    with torch.no_grad():\n",
    "        outputs = model(**batch)\n",
    "\n",
    "    logits= outputs.logits\n",
    "    predictions = torch.argmax(logits, dim = -1)\n",
    "    metric.add_batch(predictions = predictions ,references =  batch['labels'])\n",
    "\n",
    "metric.compute()"
   ],
   "id": "ae4fcc750f86e268",
   "outputs": [
    {
     "data": {
      "text/plain": [
       "{'accuracy': 0.8504901960784313, 'f1': 0.893542757417103}"
      ]
     },
     "execution_count": 51,
     "metadata": {},
     "output_type": "execute_result"
    }
   ],
   "execution_count": 51
  },
  {
   "metadata": {},
   "cell_type": "markdown",
   "source": "Now Using Accelerator if there are multiple GPUs",
   "id": "de46e0deb26cbfbe"
  },
  {
   "metadata": {
    "ExecuteTime": {
     "end_time": "2025-10-22T10:01:01.044420Z",
     "start_time": "2025-10-22T10:01:01.018908Z"
    }
   },
   "cell_type": "code",
   "source": [
    "from accelerate import Accelerator\n",
    "from torch.optim import AdamW\n",
    "from transformers import AutoModelForSequenceClassification, get_scheduler"
   ],
   "id": "125d5615920e8487",
   "outputs": [],
   "execution_count": 19
  },
  {
   "metadata": {
    "ExecuteTime": {
     "end_time": "2025-10-22T10:01:08.100444Z",
     "start_time": "2025-10-22T10:01:08.009447Z"
    }
   },
   "cell_type": "code",
   "source": "accelerator = Accelerator()",
   "id": "877522bb2295d9ad",
   "outputs": [],
   "execution_count": 20
  },
  {
   "metadata": {
    "ExecuteTime": {
     "end_time": "2025-10-22T10:01:58.332298Z",
     "start_time": "2025-10-22T10:01:56.176875Z"
    }
   },
   "cell_type": "code",
   "source": [
    "model = AutoModelForSequenceClassification.from_pretrained(checkpoint, num_labels=2)\n",
    "optimizer = AdamW(model.parameters(), lr  = 3e-5)"
   ],
   "id": "4915c710d1c1ef33",
   "outputs": [
    {
     "name": "stderr",
     "output_type": "stream",
     "text": [
      "Some weights of BertForSequenceClassification were not initialized from the model checkpoint at bert-base-uncased and are newly initialized: ['classifier.bias', 'classifier.weight']\n",
      "You should probably TRAIN this model on a down-stream task to be able to use it for predictions and inference.\n"
     ]
    }
   ],
   "execution_count": 21
  },
  {
   "metadata": {
    "ExecuteTime": {
     "end_time": "2025-10-22T10:02:55.580825Z",
     "start_time": "2025-10-22T10:02:55.082310Z"
    }
   },
   "cell_type": "code",
   "source": [
    "train_dl, eval_dl, model, optimizer = accelerator.prepare(train_dataloader,eval_dataloader,model,optimizer\n",
    ")"
   ],
   "id": "7ee007e05af8f193",
   "outputs": [],
   "execution_count": 22
  },
  {
   "metadata": {
    "ExecuteTime": {
     "end_time": "2025-10-22T10:04:33.547584Z",
     "start_time": "2025-10-22T10:04:33.543070Z"
    }
   },
   "cell_type": "code",
   "source": [
    "num_epochs = 3\n",
    "num_training_steps = num_epochs*len(train_dl)\n",
    "lr_scheduler = get_scheduler(\n",
    "    'linear',\n",
    "    optimizer = optimizer,\n",
    "    num_warmup_steps = 0,\n",
    "    num_training_steps = num_training_steps\n",
    ")"
   ],
   "id": "1c928afcd257427",
   "outputs": [],
   "execution_count": 23
  },
  {
   "metadata": {
    "ExecuteTime": {
     "end_time": "2025-10-22T10:05:05.645359Z",
     "start_time": "2025-10-22T10:05:05.628838Z"
    }
   },
   "cell_type": "code",
   "source": [
    "from tqdm.auto import tqdm\n",
    "progress_bar = tqdm(range(num_training_steps))"
   ],
   "id": "860779431ae35515",
   "outputs": [
    {
     "data": {
      "text/plain": [
       "  0%|          | 0/690 [00:00<?, ?it/s]"
      ],
      "application/vnd.jupyter.widget-view+json": {
       "version_major": 2,
       "version_minor": 0,
       "model_id": "39bbd1e5590047f2939e398c17099b30"
      }
     },
     "metadata": {},
     "output_type": "display_data",
     "jetTransient": {
      "display_id": null
     }
    }
   ],
   "execution_count": 25
  },
  {
   "metadata": {
    "ExecuteTime": {
     "end_time": "2025-10-22T10:44:38.936735Z",
     "start_time": "2025-10-22T10:07:05.651250Z"
    }
   },
   "cell_type": "code",
   "source": [
    "model.train()\n",
    "for epoch in range(num_epochs):\n",
    "    for batch in train_dl:\n",
    "        outputs = model(**batch)\n",
    "        loss = outputs.loss\n",
    "        accelerator.backward(loss)\n",
    "\n",
    "        optimizer.step()\n",
    "        lr_scheduler.step()\n",
    "        optimizer.zero_grad()\n",
    "        progress_bar.update(1)\n"
   ],
   "id": "41798cd4fba6bc23",
   "outputs": [],
   "execution_count": 26
  },
  {
   "metadata": {
    "ExecuteTime": {
     "end_time": "2025-10-22T10:54:25.033654Z",
     "start_time": "2025-10-22T10:54:25.030652Z"
    }
   },
   "cell_type": "code",
   "source": [
    "import torch\n",
    "device = torch.device('cuda' if torch.cuda.is_available() else 'cpu')"
   ],
   "id": "c115473b2c44942a",
   "outputs": [],
   "execution_count": 29
  },
  {
   "metadata": {
    "ExecuteTime": {
     "end_time": "2025-10-22T10:51:24.417104Z",
     "start_time": "2025-10-22T10:51:24.123104Z"
    }
   },
   "cell_type": "code",
   "source": "import evaluate",
   "id": "cb4adaaaddf6ea5d",
   "outputs": [],
   "execution_count": 27
  },
  {
   "metadata": {
    "ExecuteTime": {
     "end_time": "2025-10-22T10:54:46.795853Z",
     "start_time": "2025-10-22T10:54:29.532418Z"
    }
   },
   "cell_type": "code",
   "source": [
    "metric = evaluate.load('glue', 'mrpc')\n",
    "model.eval()\n",
    "for batch in eval_dl:\n",
    "    batch = {k:v.to(device) for k,v in batch.items()}\n",
    "    with torch.no_grad():\n",
    "        outputs = model(**batch)\n",
    "\n",
    "    logits = outputs.logits\n",
    "    predictions = torch.argmax(logits, dim=-1)\n",
    "    metric.add_batch(predictions = predictions ,references = batch['labels'])\n",
    "\n",
    "metric.compute()"
   ],
   "id": "94b7f828ff780b27",
   "outputs": [
    {
     "data": {
      "text/plain": [
       "{'accuracy': 0.8529411764705882, 'f1': 0.8983050847457628}"
      ]
     },
     "execution_count": 30,
     "metadata": {},
     "output_type": "execute_result"
    }
   ],
   "execution_count": 30
  },
  {
   "metadata": {
    "ExecuteTime": {
     "end_time": "2025-10-22T10:58:18.622487Z",
     "start_time": "2025-10-22T10:58:16.749333Z"
    }
   },
   "cell_type": "code",
   "source": [
    "from transformers import AutoTokenizer\n",
    "\n",
    "# Replace with your model name if needed\n",
    "model_name = \"bert-base-uncased\"\n",
    "\n",
    "# Save both model and tokenizer\n",
    "model.save_pretrained(\"./bert_mrpc_model\")\n",
    "tokenizer = AutoTokenizer.from_pretrained(model_name)\n",
    "tokenizer.save_pretrained(\"./bert_mrpc_model\")\n",
    "\n",
    "print(\"✅ Model and tokenizer saved to './bert_mrpc_model'\")"
   ],
   "id": "2031b791de7801b0",
   "outputs": [
    {
     "name": "stdout",
     "output_type": "stream",
     "text": [
      "✅ Model and tokenizer saved to './bert_mrpc_model'\n"
     ]
    }
   ],
   "execution_count": 33
  },
  {
   "metadata": {
    "ExecuteTime": {
     "end_time": "2025-10-22T11:00:26.009754Z",
     "start_time": "2025-10-22T11:00:25.726244Z"
    }
   },
   "cell_type": "code",
   "source": [
    "from transformers import AutoTokenizer, AutoModelForSequenceClassification\n",
    "import torch\n",
    "import torch.nn.functional as F\n",
    "\n",
    "# Load model and tokenizer\n",
    "model = AutoModelForSequenceClassification.from_pretrained(\"./bert_mrpc_model\")\n",
    "tokenizer = AutoTokenizer.from_pretrained(\"./bert_mrpc_model\")\n",
    "\n",
    "model.eval()\n",
    "\n",
    "def check_paraphrase(sentence1, sentence2):\n",
    "    inputs = tokenizer(sentence1, sentence2, return_tensors=\"pt\", truncation=True, padding=True)\n",
    "    with torch.no_grad():\n",
    "        outputs = model(**inputs)\n",
    "        probs = F.softmax(outputs.logits, dim=-1)\n",
    "        pred = torch.argmax(probs, dim=-1).item()\n",
    "        conf = probs[0, pred].item()\n",
    "\n",
    "    label = \"Paraphrase\" if pred == 1 else \"Not Paraphrase\"\n",
    "    return f\"{label} (confidence: {conf:.2f})\"\n",
    "\n",
    "# Try it\n",
    "print(check_paraphrase(\"The boy is playing football.\", \"I am training LLMs.\"))\n"
   ],
   "id": "8ba214bc1e8111af",
   "outputs": [
    {
     "name": "stdout",
     "output_type": "stream",
     "text": [
      "Not Paraphrase (confidence: 0.98)\n"
     ]
    }
   ],
   "execution_count": 37
  },
  {
   "metadata": {},
   "cell_type": "code",
   "outputs": [],
   "execution_count": null,
   "source": "",
   "id": "a36832c518a9a149"
  }
 ],
 "metadata": {
  "kernelspec": {
   "display_name": "Python 3",
   "language": "python",
   "name": "python3"
  },
  "language_info": {
   "codemirror_mode": {
    "name": "ipython",
    "version": 2
   },
   "file_extension": ".py",
   "mimetype": "text/x-python",
   "name": "python",
   "nbconvert_exporter": "python",
   "pygments_lexer": "ipython2",
   "version": "2.7.6"
  }
 },
 "nbformat": 4,
 "nbformat_minor": 5
}
