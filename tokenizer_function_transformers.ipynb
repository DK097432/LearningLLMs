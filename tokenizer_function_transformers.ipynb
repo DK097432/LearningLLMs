{
 "cells": [
  {
   "cell_type": "code",
   "id": "initial_id",
   "metadata": {
    "collapsed": true,
    "ExecuteTime": {
     "end_time": "2025-10-15T19:01:58.158859Z",
     "start_time": "2025-10-15T19:01:51.419720Z"
    }
   },
   "source": [
    "# Tokenizers does two steps frist tokenzation of works and then turn them into token_ids\n",
    "\n",
    "from transformers import AutoTokenizer\n",
    "tokenizer = AutoTokenizer.from_pretrained('bert-base-cased')"
   ],
   "outputs": [],
   "execution_count": 1
  },
  {
   "metadata": {
    "ExecuteTime": {
     "end_time": "2025-10-15T19:03:02.784831Z",
     "start_time": "2025-10-15T19:03:02.779317Z"
    }
   },
   "cell_type": "code",
   "source": [
    "sentence = 'I am using Tokenizer to tokenize the sentence'\n",
    "tokenized_sentence = tokenizer.tokenize(sentence)"
   ],
   "id": "95bfd98d663afa69",
   "outputs": [],
   "execution_count": 2
  },
  {
   "metadata": {
    "ExecuteTime": {
     "end_time": "2025-10-15T19:03:07.155492Z",
     "start_time": "2025-10-15T19:03:07.145975Z"
    }
   },
   "cell_type": "code",
   "source": "tokenized_sentence",
   "id": "d6574fb92e561fde",
   "outputs": [
    {
     "data": {
      "text/plain": [
       "['I',\n",
       " 'am',\n",
       " 'using',\n",
       " 'To',\n",
       " '##ken',\n",
       " '##izer',\n",
       " 'to',\n",
       " 'token',\n",
       " '##ize',\n",
       " 'the',\n",
       " 'sentence']"
      ]
     },
     "execution_count": 3,
     "metadata": {},
     "output_type": "execute_result"
    }
   ],
   "execution_count": 3
  },
  {
   "metadata": {
    "ExecuteTime": {
     "end_time": "2025-10-15T19:04:10.239029Z",
     "start_time": "2025-10-15T19:04:10.233021Z"
    }
   },
   "cell_type": "code",
   "source": [
    "# Now we will turn the tokens into token_ids\n",
    "token_ids= tokenizer.convert_tokens_to_ids(tokenized_sentence)\n",
    "token_ids"
   ],
   "id": "779c384f0e13b253",
   "outputs": [
    {
     "data": {
      "text/plain": [
       "[146, 1821, 1606, 1706, 6378, 17260, 1106, 22559, 3708, 1103, 5650]"
      ]
     },
     "execution_count": 4,
     "metadata": {},
     "output_type": "execute_result"
    }
   ],
   "execution_count": 4
  },
  {
   "metadata": {
    "ExecuteTime": {
     "end_time": "2025-10-15T19:04:55.301848Z",
     "start_time": "2025-10-15T19:04:55.298848Z"
    }
   },
   "cell_type": "code",
   "source": [
    "# We can decode the ids bask to the sentence\n",
    "decode_tokens = tokenizer.decode(token_ids)"
   ],
   "id": "560ec268c1a9e717",
   "outputs": [],
   "execution_count": 5
  },
  {
   "metadata": {
    "ExecuteTime": {
     "end_time": "2025-10-15T19:04:59.291314Z",
     "start_time": "2025-10-15T19:04:59.286314Z"
    }
   },
   "cell_type": "code",
   "source": "decode_tokens",
   "id": "1ddc95538b914c32",
   "outputs": [
    {
     "data": {
      "text/plain": [
       "'I am using Tokenizer to tokenize the sentence'"
      ]
     },
     "execution_count": 6,
     "metadata": {},
     "output_type": "execute_result"
    }
   ],
   "execution_count": 6
  },
  {
   "metadata": {},
   "cell_type": "code",
   "outputs": [],
   "execution_count": null,
   "source": "",
   "id": "2ecd767e8cb90d66"
  }
 ],
 "metadata": {
  "kernelspec": {
   "display_name": "Python 3",
   "language": "python",
   "name": "python3"
  },
  "language_info": {
   "codemirror_mode": {
    "name": "ipython",
    "version": 2
   },
   "file_extension": ".py",
   "mimetype": "text/x-python",
   "name": "python",
   "nbconvert_exporter": "python",
   "pygments_lexer": "ipython2",
   "version": "2.7.6"
  }
 },
 "nbformat": 4,
 "nbformat_minor": 5
}
