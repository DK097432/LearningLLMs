{
 "cells": [
  {
   "metadata": {
    "ExecuteTime": {
     "end_time": "2025-10-15T10:35:36.557506Z",
     "start_time": "2025-10-15T10:35:36.549987Z"
    }
   },
   "cell_type": "code",
   "outputs": [
    {
     "data": {
      "text/plain": [
       "device(type='cuda', index=0)"
      ]
     },
     "execution_count": 6,
     "metadata": {},
     "output_type": "execute_result"
    }
   ],
   "execution_count": 6,
   "source": [
    "import torch\n",
    "torch.device('cuda:0')"
   ],
   "id": "7f48186cfc7e883e"
  },
  {
   "metadata": {
    "collapsed": true,
    "ExecuteTime": {
     "end_time": "2025-10-15T10:32:02.244531Z",
     "start_time": "2025-10-15T10:32:01.323108Z"
    }
   },
   "cell_type": "code",
   "outputs": [],
   "execution_count": 2,
   "source": [
    "from transformers import AutoTokenizer\n",
    "checkpoint = \"distilbert-base-uncased-finetuned-sst-2-english\"\n",
    "tokenizer= AutoTokenizer.from_pretrained(checkpoint)"
   ],
   "id": "3726a466c24957b3"
  },
  {
   "metadata": {
    "ExecuteTime": {
     "end_time": "2025-10-15T10:33:52.841819Z",
     "start_time": "2025-10-15T10:33:52.833304Z"
    }
   },
   "cell_type": "code",
   "outputs": [],
   "execution_count": 3,
   "source": [
    "raw_data = [\n",
    "    'This is not what I wanted',\n",
    "    'I am going to play cricket at 4 pm'\n",
    "]\n",
    "inputs = tokenizer(raw_data,padding = True, truncation = True, return_tensors=\"pt\")"
   ],
   "id": "f6dbee6635cd23a9"
  },
  {
   "metadata": {
    "ExecuteTime": {
     "end_time": "2025-10-15T10:34:00.988157Z",
     "start_time": "2025-10-15T10:34:00.981638Z"
    }
   },
   "cell_type": "code",
   "outputs": [
    {
     "name": "stdout",
     "output_type": "stream",
     "text": [
      "{'input_ids': tensor([[ 101, 2023, 2003, 2025, 2054, 1045, 2359,  102,    0,    0,    0],\n",
      "        [ 101, 1045, 2572, 2183, 2000, 2377, 4533, 2012, 1018, 7610,  102]]), 'attention_mask': tensor([[1, 1, 1, 1, 1, 1, 1, 1, 0, 0, 0],\n",
      "        [1, 1, 1, 1, 1, 1, 1, 1, 1, 1, 1]])}\n"
     ]
    }
   ],
   "execution_count": 4,
   "source": "print(inputs)",
   "id": "1c7ba1d2afa74109"
  },
  {
   "metadata": {
    "ExecuteTime": {
     "end_time": "2025-10-15T10:36:01.896805Z",
     "start_time": "2025-10-15T10:36:01.573829Z"
    }
   },
   "cell_type": "code",
   "source": [
    "from transformers import AutoModel\n",
    "model = AutoModel.from_pretrained(checkpoint)"
   ],
   "id": "da7d09c46e2eb8ad",
   "outputs": [],
   "execution_count": 7
  },
  {
   "metadata": {
    "ExecuteTime": {
     "end_time": "2025-10-15T10:36:37.305512Z",
     "start_time": "2025-10-15T10:36:37.204295Z"
    }
   },
   "cell_type": "code",
   "source": [
    "outputs = model(**inputs)\n",
    "print(outputs.last_hidden_state.shape)"
   ],
   "id": "20d9c91dea650d1b",
   "outputs": [
    {
     "name": "stdout",
     "output_type": "stream",
     "text": [
      "torch.Size([2, 11, 768])\n"
     ]
    }
   ],
   "execution_count": 8
  },
  {
   "metadata": {
    "ExecuteTime": {
     "end_time": "2025-10-15T10:38:07.311190Z",
     "start_time": "2025-10-15T10:38:07.302664Z"
    }
   },
   "cell_type": "code",
   "source": "(outputs['last_hidden_state'])",
   "id": "f0b13c6e24c45fd5",
   "outputs": [
    {
     "data": {
      "text/plain": [
       "tensor([[[-0.6424,  0.6147, -0.0541,  ...,  0.1163, -1.2644, -0.4097],\n",
       "         [-0.7852,  0.6384,  0.1297,  ..., -0.0674, -1.3539, -0.4680],\n",
       "         [-0.6749,  0.6517,  0.1236,  ..., -0.0334, -1.2432, -0.4688],\n",
       "         ...,\n",
       "         [-0.4468,  0.6249, -0.3109,  ..., -0.1964, -1.4531, -0.3588],\n",
       "         [-0.5208,  0.6198, -0.3205,  ...,  0.0825, -1.3076, -0.4903],\n",
       "         [-0.1627,  0.5682, -0.2133,  ..., -0.0735, -1.2672, -0.3395]],\n",
       "\n",
       "        [[ 0.2471,  0.2258,  0.9070,  ...,  0.5602,  0.6607,  0.2099],\n",
       "         [ 0.9517,  0.3355,  0.6639,  ...,  0.2039,  0.6040,  0.1965],\n",
       "         [ 0.6599,  0.4793,  1.0629,  ..., -0.0196,  0.5612,  0.2191],\n",
       "         ...,\n",
       "         [ 0.5036,  0.6449,  1.4846,  ...,  0.5171,  0.7015,  0.1330],\n",
       "         [-0.1975,  0.7292,  0.8120,  ..., -0.0882,  0.5598, -0.4382],\n",
       "         [ 0.8799,  0.3261,  0.2796,  ...,  0.7860,  0.2213, -0.1298]]],\n",
       "       grad_fn=<NativeLayerNormBackward0>)"
      ]
     },
     "execution_count": 11,
     "metadata": {},
     "output_type": "execute_result"
    }
   ],
   "execution_count": 11
  },
  {
   "metadata": {
    "ExecuteTime": {
     "end_time": "2025-10-15T10:39:23.885134Z",
     "start_time": "2025-10-15T10:39:23.501340Z"
    }
   },
   "cell_type": "code",
   "source": [
    "from transformers import AutoModelForSequenceClassification\n",
    "model =AutoModelForSequenceClassification.from_pretrained(checkpoint)\n",
    "outputs = model(**inputs)"
   ],
   "id": "a2f5e708c531b42",
   "outputs": [],
   "execution_count": 14
  },
  {
   "metadata": {
    "ExecuteTime": {
     "end_time": "2025-10-15T10:39:37.971012Z",
     "start_time": "2025-10-15T10:39:37.965753Z"
    }
   },
   "cell_type": "code",
   "source": "print(outputs.logits.shape)",
   "id": "6cb48dcef606e771",
   "outputs": [
    {
     "name": "stdout",
     "output_type": "stream",
     "text": [
      "torch.Size([2, 2])\n"
     ]
    }
   ],
   "execution_count": 15
  },
  {
   "metadata": {
    "ExecuteTime": {
     "end_time": "2025-10-15T10:40:26.329734Z",
     "start_time": "2025-10-15T10:40:26.325735Z"
    }
   },
   "cell_type": "code",
   "source": [
    "import torch\n",
    "predictions= torch.nn.functional.softmax(outputs.logits, dim = -1)"
   ],
   "id": "93214195d3370558",
   "outputs": [],
   "execution_count": 16
  },
  {
   "metadata": {
    "ExecuteTime": {
     "end_time": "2025-10-15T10:40:31.032778Z",
     "start_time": "2025-10-15T10:40:31.026775Z"
    }
   },
   "cell_type": "code",
   "source": "print(predictions)",
   "id": "db0b99b16336962f",
   "outputs": [
    {
     "name": "stdout",
     "output_type": "stream",
     "text": [
      "tensor([[9.9975e-01, 2.4688e-04],\n",
      "        [1.6058e-02, 9.8394e-01]], grad_fn=<SoftmaxBackward0>)\n"
     ]
    }
   ],
   "execution_count": 17
  },
  {
   "metadata": {
    "ExecuteTime": {
     "end_time": "2025-10-15T10:40:49.791401Z",
     "start_time": "2025-10-15T10:40:49.785399Z"
    }
   },
   "cell_type": "code",
   "source": "model.config.id2label",
   "id": "84bf73618adee317",
   "outputs": [
    {
     "data": {
      "text/plain": [
       "{0: 'NEGATIVE', 1: 'POSITIVE'}"
      ]
     },
     "execution_count": 18,
     "metadata": {},
     "output_type": "execute_result"
    }
   ],
   "execution_count": 18
  },
  {
   "metadata": {},
   "cell_type": "code",
   "outputs": [],
   "execution_count": null,
   "source": "",
   "id": "f9d816e66e85728b"
  }
 ],
 "metadata": {
  "kernelspec": {
   "display_name": "Python 3",
   "language": "python",
   "name": "python3"
  },
  "language_info": {
   "codemirror_mode": {
    "name": "ipython",
    "version": 2
   },
   "file_extension": ".py",
   "mimetype": "text/x-python",
   "name": "python",
   "nbconvert_exporter": "python",
   "pygments_lexer": "ipython2",
   "version": "2.7.6"
  }
 },
 "nbformat": 4,
 "nbformat_minor": 5
}
